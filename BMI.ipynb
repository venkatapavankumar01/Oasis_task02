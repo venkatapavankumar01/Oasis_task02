{
  "nbformat": 4,
  "nbformat_minor": 0,
  "metadata": {
    "colab": {
      "provenance": []
    },
    "kernelspec": {
      "name": "python3",
      "display_name": "Python 3"
    },
    "language_info": {
      "name": "python"
    }
  },
  "cells": [
    {
      "cell_type": "code",
      "execution_count": null,
      "metadata": {
        "colab": {
          "base_uri": "https://localhost:8080/"
        },
        "id": "vrTgK23XED-3",
        "outputId": "3f982edb-632a-4357-a77a-3ca5332933c8"
      },
      "outputs": [
        {
          "metadata": {
            "tags": null
          },
          "name": "stdout",
          "output_type": "stream",
          "text": [
            "Your Body Mass Index is 88.88888888888889\n",
            "Seesh! You are obese.\n"
          ]
        }
      ],
      "source": [
        "the_height = float(input(\"Enter the height in cm: \"))\n",
        "the_weight = float(input(\"Enter the weight in kg: \"))\n",
        "\n",
        "the_BMI = the_weight / (the_height/100)**2\n",
        "print(\"Your Body Mass Index is\", the_BMI)\n",
        "if the_BMI <= 18.5:\n",
        "    print(\"Oops! You are underweight.\")\n",
        "elif the_BMI <= 24.9:\n",
        "    print(\"Awesome! You are healthy.\")\n",
        "elif the_BMI <= 29.9:\n",
        "    the_print(\"Eee! You are overweight.\")\n",
        "else:\n",
        "    print(\"Seesh! You are obese.\")\n",
        "the_height = float(input(\"Enter the height in cm: \"))\n",
        "the_weight = float(input(\"Enter the weight in kg: \"))\n",
        "\n",
        "the_BMI = the_weight / (the_height/100)**2\n",
        "\n",
        "print(\"Your Body Mass Index is\", the_BMI)\n",
        "\n",
        "if the_BMI <= 18.5:\n",
        "    print(\"Oops! You are underweight.\")\n",
        "elif the_BMI <= 24.9:\n",
        "    print(\"Awesome! You are healthy.\")\n",
        "elif the_BMI <= 29.9:\n",
        "    the_print(\"Eee! You are over weight.\")\n",
        "else:\n",
        "    print(\"Seesh! You are obese.\")\n"
      ]
    }
  ]
}